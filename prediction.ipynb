{
 "cells": [
  {
   "cell_type": "code",
   "execution_count": null,
   "metadata": {},
   "outputs": [],
   "source": [
    "# Based from the tutorial of Jason Brownlee on Recurrent Neural Networks\n",
    "%matplotlib inline\n",
    "\n",
    "from __future__ import print_function\n",
    "\n",
    "import os\n",
    "os.environ[\"THEANO_FLAGS\"] = \"mode=FAST_RUN,device=gpu,floatX=float32\"\n",
    "\n",
    "\n",
    "import numpy as np\n",
    "import matplotlib.pyplot as plt\n",
    "import pandas\n",
    "import math\n",
    "\n",
    "\n",
    "from keras.models import Sequential\n",
    "from keras.layers import Dense\n",
    "from keras.layers import LSTM\n",
    "from sklearn.preprocessing import MinMaxScaler"
   ]
  },
  {
   "cell_type": "code",
   "execution_count": null,
   "metadata": {},
   "outputs": [],
   "source": [
    "# fix random seed for reproducibility\n",
    "np.random.seed(10)"
   ]
  },
  {
   "cell_type": "code",
   "execution_count": null,
   "metadata": {},
   "outputs": [],
   "source": [
    "#Use the flood_data.csv dataset\n",
    "dataframe = pandas.read_csv('dataset/flood_train.csv', usecols=[1], engine='python', skipfooter=3)\n",
    "dataset   = dataframe.values\n",
    "dataset   = dataset.astype('float32')\n",
    "dataframe.head()"
   ]
  },
  {
   "cell_type": "code",
   "execution_count": null,
   "metadata": {},
   "outputs": [],
   "source": [
    "# normalize the dataset\n",
    "scaler  = MinMaxScaler(feature_range=(0, 1))\n",
    "dataset = scaler.fit_transform(dataset)"
   ]
  },
  {
   "cell_type": "code",
   "execution_count": null,
   "metadata": {},
   "outputs": [],
   "source": [
    "# split into train and test sets\n",
    "train_size  = int(len(dataset) * 0.67)\n",
    "test_size   = len(dataset) - train_size\n",
    "train, test = dataset[0:train_size,:], dataset[train_size:len(dataset),:]"
   ]
  },
  {
   "cell_type": "code",
   "execution_count": null,
   "metadata": {},
   "outputs": [],
   "source": [
    "# This function creates a sliding window of the dataset.\n",
    "def create_dataset(dataset, sliding_window=1):\n",
    "    dataX, dataY = [], []\n",
    "    for i in range(len(dataset)-sliding_window-1):\n",
    "        a = dataset[i:(i+sliding_window), 0]\n",
    "        dataX.append(a)\n",
    "        dataY.append(dataset[i + sliding_window, 0])\n",
    "    return np.array(dataX), np.array(dataY)"
   ]
  },
  {
   "cell_type": "code",
   "execution_count": null,
   "metadata": {},
   "outputs": [],
   "source": [
    "# use a n-10 sliding window equivalent to 2.5 hours of historical data\n",
    "slide_window   = 10\n",
    "trainX, trainY = create_dataset(train, slide_window)\n",
    "testX, testY   = create_dataset(test, slide_window)"
   ]
  },
  {
   "cell_type": "code",
   "execution_count": null,
   "metadata": {},
   "outputs": [],
   "source": [
    "trainX = np.reshape(trainX, (trainX.shape[0], 1, trainX.shape[1]))\n",
    "testX  = np.reshape(testX, (testX.shape[0], 1, testX.shape[1]))"
   ]
  },
  {
   "cell_type": "code",
   "execution_count": null,
   "metadata": {},
   "outputs": [],
   "source": [
    "#Setup the LSTM\n",
    "\n",
    "model = Sequential()\n",
    "model.add(LSTM(4, input_dim=slide_window))\n",
    "model.add(Dense(1))\n",
    "model.compile(loss='mean_squared_error', optimizer='adam')\n",
    "model.fit(trainX, trainY, nb_epoch=50, batch_size=1, verbose=2)"
   ]
  },
  {
   "cell_type": "code",
   "execution_count": null,
   "metadata": {},
   "outputs": [],
   "source": [
    "#test real time fake data\n",
    "\n",
    "import random\n",
    "import time\n",
    "\n",
    "prediction = []\n",
    "\n",
    "while (true):\n",
    "    unseen_test = random.random()#random number generated for waterlevel\n",
    "    \n",
    "    unseen_clean = np.asarray([unseen_test]).astype('float32')\n",
    "    unseen_clean = scaler.fit_transform(unseen_clean)\n",
    "    \n",
    "    features,labels = create_dataset(unseen_clean, slide_window)\n",
    "    features        = np.reshape(features, (109186,1, 10))\n",
    "    \n",
    "    unseen_results = model.predict(features)\n",
    "    \n",
    "    prediction.append(unseen_results)\n",
    "    plt.gca().set_ylim(bottom=0)\n",
    "    plt.gca().set_ylim(top=1)\n",
    "\n",
    "    print('-------------------- Predicted --------------------')\n",
    "    plt.plot(prediction)\n",
    "    plt.show()\n",
    "    \n",
    "    time.sleep(120) #predicts if flood occurs for every 2 minutes once"
   ]
  }
 ],
 "metadata": {
  "kernelspec": {
   "display_name": "Python 3",
   "language": "python",
   "name": "python3"
  },
  "language_info": {
   "codemirror_mode": {
    "name": "ipython",
    "version": 3
   },
   "file_extension": ".py",
   "mimetype": "text/x-python",
   "name": "python",
   "nbconvert_exporter": "python",
   "pygments_lexer": "ipython3",
   "version": "3.7.0"
  }
 },
 "nbformat": 4,
 "nbformat_minor": 2
}
